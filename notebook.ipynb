{
 "cells": [
  {
   "cell_type": "code",
   "execution_count": 1,
   "id": "c8385c2a",
   "metadata": {
    "_cell_guid": "b1076dfc-b9ad-4769-8c92-a6c4dae69d19",
    "_uuid": "8f2839f25d086af736a60e9eeb907d3b93b6e0e5",
    "execution": {
     "iopub.execute_input": "2024-07-23T18:00:46.276089Z",
     "iopub.status.busy": "2024-07-23T18:00:46.275675Z",
     "iopub.status.idle": "2024-07-23T18:00:48.674335Z",
     "shell.execute_reply": "2024-07-23T18:00:48.673366Z"
    },
    "papermill": {
     "duration": 2.406655,
     "end_time": "2024-07-23T18:00:48.676987",
     "exception": false,
     "start_time": "2024-07-23T18:00:46.270332",
     "status": "completed"
    },
    "tags": []
   },
   "outputs": [],
   "source": [
    "import numpy as np\n",
    "import pandas as pd\n",
    "import matplotlib.pyplot as plt\n",
    "import seaborn as sns\n"
   ]
  },
  {
   "cell_type": "code",
   "execution_count": 2,
   "id": "c37ae0b3",
   "metadata": {
    "execution": {
     "iopub.execute_input": "2024-07-23T18:00:48.686080Z",
     "iopub.status.busy": "2024-07-23T18:00:48.685572Z",
     "iopub.status.idle": "2024-07-23T18:00:48.729631Z",
     "shell.execute_reply": "2024-07-23T18:00:48.728505Z"
    },
    "papermill": {
     "duration": 0.051343,
     "end_time": "2024-07-23T18:00:48.732211",
     "exception": false,
     "start_time": "2024-07-23T18:00:48.680868",
     "status": "completed"
    },
    "tags": []
   },
   "outputs": [
    {
     "data": {
      "text/html": [
       "<div>\n",
       "<style scoped>\n",
       "    .dataframe tbody tr th:only-of-type {\n",
       "        vertical-align: middle;\n",
       "    }\n",
       "\n",
       "    .dataframe tbody tr th {\n",
       "        vertical-align: top;\n",
       "    }\n",
       "\n",
       "    .dataframe thead th {\n",
       "        text-align: right;\n",
       "    }\n",
       "</style>\n",
       "<table border=\"1\" class=\"dataframe\">\n",
       "  <thead>\n",
       "    <tr style=\"text-align: right;\">\n",
       "      <th></th>\n",
       "      <th>name</th>\n",
       "      <th>online_order</th>\n",
       "      <th>book_table</th>\n",
       "      <th>rate</th>\n",
       "      <th>votes</th>\n",
       "      <th>approx_cost(for two people)</th>\n",
       "      <th>listed_in(type)</th>\n",
       "    </tr>\n",
       "  </thead>\n",
       "  <tbody>\n",
       "    <tr>\n",
       "      <th>0</th>\n",
       "      <td>Jalsa</td>\n",
       "      <td>Yes</td>\n",
       "      <td>Yes</td>\n",
       "      <td>4.1/5</td>\n",
       "      <td>775</td>\n",
       "      <td>800</td>\n",
       "      <td>Buffet</td>\n",
       "    </tr>\n",
       "    <tr>\n",
       "      <th>1</th>\n",
       "      <td>Spice Elephant</td>\n",
       "      <td>Yes</td>\n",
       "      <td>No</td>\n",
       "      <td>4.1/5</td>\n",
       "      <td>787</td>\n",
       "      <td>800</td>\n",
       "      <td>Buffet</td>\n",
       "    </tr>\n",
       "    <tr>\n",
       "      <th>2</th>\n",
       "      <td>San Churro Cafe</td>\n",
       "      <td>Yes</td>\n",
       "      <td>No</td>\n",
       "      <td>3.8/5</td>\n",
       "      <td>918</td>\n",
       "      <td>800</td>\n",
       "      <td>Buffet</td>\n",
       "    </tr>\n",
       "    <tr>\n",
       "      <th>3</th>\n",
       "      <td>Addhuri Udupi Bhojana</td>\n",
       "      <td>No</td>\n",
       "      <td>No</td>\n",
       "      <td>3.7/5</td>\n",
       "      <td>88</td>\n",
       "      <td>300</td>\n",
       "      <td>Buffet</td>\n",
       "    </tr>\n",
       "    <tr>\n",
       "      <th>4</th>\n",
       "      <td>Grand Village</td>\n",
       "      <td>No</td>\n",
       "      <td>No</td>\n",
       "      <td>3.8/5</td>\n",
       "      <td>166</td>\n",
       "      <td>600</td>\n",
       "      <td>Buffet</td>\n",
       "    </tr>\n",
       "    <tr>\n",
       "      <th>...</th>\n",
       "      <td>...</td>\n",
       "      <td>...</td>\n",
       "      <td>...</td>\n",
       "      <td>...</td>\n",
       "      <td>...</td>\n",
       "      <td>...</td>\n",
       "      <td>...</td>\n",
       "    </tr>\n",
       "    <tr>\n",
       "      <th>143</th>\n",
       "      <td>Melting Melodies</td>\n",
       "      <td>No</td>\n",
       "      <td>No</td>\n",
       "      <td>3.3/5</td>\n",
       "      <td>0</td>\n",
       "      <td>100</td>\n",
       "      <td>Dining</td>\n",
       "    </tr>\n",
       "    <tr>\n",
       "      <th>144</th>\n",
       "      <td>New Indraprasta</td>\n",
       "      <td>No</td>\n",
       "      <td>No</td>\n",
       "      <td>3.3/5</td>\n",
       "      <td>0</td>\n",
       "      <td>150</td>\n",
       "      <td>Dining</td>\n",
       "    </tr>\n",
       "    <tr>\n",
       "      <th>145</th>\n",
       "      <td>Anna Kuteera</td>\n",
       "      <td>Yes</td>\n",
       "      <td>No</td>\n",
       "      <td>4.0/5</td>\n",
       "      <td>771</td>\n",
       "      <td>450</td>\n",
       "      <td>Dining</td>\n",
       "    </tr>\n",
       "    <tr>\n",
       "      <th>146</th>\n",
       "      <td>Darbar</td>\n",
       "      <td>No</td>\n",
       "      <td>No</td>\n",
       "      <td>3.0/5</td>\n",
       "      <td>98</td>\n",
       "      <td>800</td>\n",
       "      <td>Dining</td>\n",
       "    </tr>\n",
       "    <tr>\n",
       "      <th>147</th>\n",
       "      <td>Vijayalakshmi</td>\n",
       "      <td>Yes</td>\n",
       "      <td>No</td>\n",
       "      <td>3.9/5</td>\n",
       "      <td>47</td>\n",
       "      <td>200</td>\n",
       "      <td>Dining</td>\n",
       "    </tr>\n",
       "  </tbody>\n",
       "</table>\n",
       "<p>148 rows × 7 columns</p>\n",
       "</div>"
      ],
      "text/plain": [
       "                      name online_order book_table   rate  votes  \\\n",
       "0                    Jalsa          Yes        Yes  4.1/5    775   \n",
       "1           Spice Elephant          Yes         No  4.1/5    787   \n",
       "2          San Churro Cafe          Yes         No  3.8/5    918   \n",
       "3    Addhuri Udupi Bhojana           No         No  3.7/5     88   \n",
       "4            Grand Village           No         No  3.8/5    166   \n",
       "..                     ...          ...        ...    ...    ...   \n",
       "143       Melting Melodies           No         No  3.3/5      0   \n",
       "144        New Indraprasta           No         No  3.3/5      0   \n",
       "145           Anna Kuteera          Yes         No  4.0/5    771   \n",
       "146                 Darbar           No         No  3.0/5     98   \n",
       "147          Vijayalakshmi          Yes         No  3.9/5     47   \n",
       "\n",
       "     approx_cost(for two people) listed_in(type)  \n",
       "0                            800          Buffet  \n",
       "1                            800          Buffet  \n",
       "2                            800          Buffet  \n",
       "3                            300          Buffet  \n",
       "4                            600          Buffet  \n",
       "..                           ...             ...  \n",
       "143                          100          Dining  \n",
       "144                          150          Dining  \n",
       "145                          450          Dining  \n",
       "146                          800          Dining  \n",
       "147                          200          Dining  \n",
       "\n",
       "[148 rows x 7 columns]"
      ]
     },
     "execution_count": 2,
     "metadata": {},
     "output_type": "execute_result"
    }
   ],
   "source": [
    "df = pd.read_csv('/kaggle/input/zomato/Zomato data .csv')\n",
    "df"
   ]
  },
  {
   "cell_type": "code",
   "execution_count": 3,
   "id": "37054379",
   "metadata": {
    "execution": {
     "iopub.execute_input": "2024-07-23T18:00:48.742298Z",
     "iopub.status.busy": "2024-07-23T18:00:48.741885Z",
     "iopub.status.idle": "2024-07-23T18:00:48.749190Z",
     "shell.execute_reply": "2024-07-23T18:00:48.747981Z"
    },
    "papermill": {
     "duration": 0.014942,
     "end_time": "2024-07-23T18:00:48.751368",
     "exception": false,
     "start_time": "2024-07-23T18:00:48.736426",
     "status": "completed"
    },
    "tags": []
   },
   "outputs": [
    {
     "data": {
      "text/plain": [
       "(148, 7)"
      ]
     },
     "execution_count": 3,
     "metadata": {},
     "output_type": "execute_result"
    }
   ],
   "source": [
    "df.shape"
   ]
  },
  {
   "cell_type": "code",
   "execution_count": 4,
   "id": "01ef9fd0",
   "metadata": {
    "execution": {
     "iopub.execute_input": "2024-07-23T18:00:48.761092Z",
     "iopub.status.busy": "2024-07-23T18:00:48.760681Z",
     "iopub.status.idle": "2024-07-23T18:00:48.768164Z",
     "shell.execute_reply": "2024-07-23T18:00:48.767017Z"
    },
    "papermill": {
     "duration": 0.014899,
     "end_time": "2024-07-23T18:00:48.770378",
     "exception": false,
     "start_time": "2024-07-23T18:00:48.755479",
     "status": "completed"
    },
    "tags": []
   },
   "outputs": [
    {
     "data": {
      "text/plain": [
       "Index(['name', 'online_order', 'book_table', 'rate', 'votes',\n",
       "       'approx_cost(for two people)', 'listed_in(type)'],\n",
       "      dtype='object')"
      ]
     },
     "execution_count": 4,
     "metadata": {},
     "output_type": "execute_result"
    }
   ],
   "source": [
    "df.columns"
   ]
  },
  {
   "cell_type": "code",
   "execution_count": 5,
   "id": "888969d1",
   "metadata": {
    "execution": {
     "iopub.execute_input": "2024-07-23T18:00:48.780478Z",
     "iopub.status.busy": "2024-07-23T18:00:48.779754Z",
     "iopub.status.idle": "2024-07-23T18:00:48.797172Z",
     "shell.execute_reply": "2024-07-23T18:00:48.796018Z"
    },
    "papermill": {
     "duration": 0.025034,
     "end_time": "2024-07-23T18:00:48.799494",
     "exception": false,
     "start_time": "2024-07-23T18:00:48.774460",
     "status": "completed"
    },
    "tags": []
   },
   "outputs": [
    {
     "data": {
      "text/html": [
       "<div>\n",
       "<style scoped>\n",
       "    .dataframe tbody tr th:only-of-type {\n",
       "        vertical-align: middle;\n",
       "    }\n",
       "\n",
       "    .dataframe tbody tr th {\n",
       "        vertical-align: top;\n",
       "    }\n",
       "\n",
       "    .dataframe thead th {\n",
       "        text-align: right;\n",
       "    }\n",
       "</style>\n",
       "<table border=\"1\" class=\"dataframe\">\n",
       "  <thead>\n",
       "    <tr style=\"text-align: right;\">\n",
       "      <th></th>\n",
       "      <th>online_order</th>\n",
       "      <th>rate</th>\n",
       "      <th>votes</th>\n",
       "      <th>approx_cost(for two people)</th>\n",
       "      <th>listed_in(type)</th>\n",
       "    </tr>\n",
       "  </thead>\n",
       "  <tbody>\n",
       "    <tr>\n",
       "      <th>0</th>\n",
       "      <td>Yes</td>\n",
       "      <td>4.1/5</td>\n",
       "      <td>775</td>\n",
       "      <td>800</td>\n",
       "      <td>Buffet</td>\n",
       "    </tr>\n",
       "    <tr>\n",
       "      <th>1</th>\n",
       "      <td>Yes</td>\n",
       "      <td>4.1/5</td>\n",
       "      <td>787</td>\n",
       "      <td>800</td>\n",
       "      <td>Buffet</td>\n",
       "    </tr>\n",
       "    <tr>\n",
       "      <th>2</th>\n",
       "      <td>Yes</td>\n",
       "      <td>3.8/5</td>\n",
       "      <td>918</td>\n",
       "      <td>800</td>\n",
       "      <td>Buffet</td>\n",
       "    </tr>\n",
       "    <tr>\n",
       "      <th>3</th>\n",
       "      <td>No</td>\n",
       "      <td>3.7/5</td>\n",
       "      <td>88</td>\n",
       "      <td>300</td>\n",
       "      <td>Buffet</td>\n",
       "    </tr>\n",
       "    <tr>\n",
       "      <th>4</th>\n",
       "      <td>No</td>\n",
       "      <td>3.8/5</td>\n",
       "      <td>166</td>\n",
       "      <td>600</td>\n",
       "      <td>Buffet</td>\n",
       "    </tr>\n",
       "    <tr>\n",
       "      <th>...</th>\n",
       "      <td>...</td>\n",
       "      <td>...</td>\n",
       "      <td>...</td>\n",
       "      <td>...</td>\n",
       "      <td>...</td>\n",
       "    </tr>\n",
       "    <tr>\n",
       "      <th>143</th>\n",
       "      <td>No</td>\n",
       "      <td>3.3/5</td>\n",
       "      <td>0</td>\n",
       "      <td>100</td>\n",
       "      <td>Dining</td>\n",
       "    </tr>\n",
       "    <tr>\n",
       "      <th>144</th>\n",
       "      <td>No</td>\n",
       "      <td>3.3/5</td>\n",
       "      <td>0</td>\n",
       "      <td>150</td>\n",
       "      <td>Dining</td>\n",
       "    </tr>\n",
       "    <tr>\n",
       "      <th>145</th>\n",
       "      <td>Yes</td>\n",
       "      <td>4.0/5</td>\n",
       "      <td>771</td>\n",
       "      <td>450</td>\n",
       "      <td>Dining</td>\n",
       "    </tr>\n",
       "    <tr>\n",
       "      <th>146</th>\n",
       "      <td>No</td>\n",
       "      <td>3.0/5</td>\n",
       "      <td>98</td>\n",
       "      <td>800</td>\n",
       "      <td>Dining</td>\n",
       "    </tr>\n",
       "    <tr>\n",
       "      <th>147</th>\n",
       "      <td>Yes</td>\n",
       "      <td>3.9/5</td>\n",
       "      <td>47</td>\n",
       "      <td>200</td>\n",
       "      <td>Dining</td>\n",
       "    </tr>\n",
       "  </tbody>\n",
       "</table>\n",
       "<p>148 rows × 5 columns</p>\n",
       "</div>"
      ],
      "text/plain": [
       "    online_order   rate  votes  approx_cost(for two people) listed_in(type)\n",
       "0            Yes  4.1/5    775                          800          Buffet\n",
       "1            Yes  4.1/5    787                          800          Buffet\n",
       "2            Yes  3.8/5    918                          800          Buffet\n",
       "3             No  3.7/5     88                          300          Buffet\n",
       "4             No  3.8/5    166                          600          Buffet\n",
       "..           ...    ...    ...                          ...             ...\n",
       "143           No  3.3/5      0                          100          Dining\n",
       "144           No  3.3/5      0                          150          Dining\n",
       "145          Yes  4.0/5    771                          450          Dining\n",
       "146           No  3.0/5     98                          800          Dining\n",
       "147          Yes  3.9/5     47                          200          Dining\n",
       "\n",
       "[148 rows x 5 columns]"
      ]
     },
     "execution_count": 5,
     "metadata": {},
     "output_type": "execute_result"
    }
   ],
   "source": [
    "df = df.drop(['name','book_table'], axis = 1)\n",
    "df"
   ]
  },
  {
   "cell_type": "code",
   "execution_count": 6,
   "id": "0f5b9abd",
   "metadata": {
    "execution": {
     "iopub.execute_input": "2024-07-23T18:00:48.810106Z",
     "iopub.status.busy": "2024-07-23T18:00:48.809436Z",
     "iopub.status.idle": "2024-07-23T18:00:48.833951Z",
     "shell.execute_reply": "2024-07-23T18:00:48.832659Z"
    },
    "papermill": {
     "duration": 0.033414,
     "end_time": "2024-07-23T18:00:48.837251",
     "exception": false,
     "start_time": "2024-07-23T18:00:48.803837",
     "status": "completed"
    },
    "tags": []
   },
   "outputs": [
    {
     "name": "stdout",
     "output_type": "stream",
     "text": [
      "<class 'pandas.core.frame.DataFrame'>\n",
      "RangeIndex: 148 entries, 0 to 147\n",
      "Data columns (total 5 columns):\n",
      " #   Column                       Non-Null Count  Dtype \n",
      "---  ------                       --------------  ----- \n",
      " 0   online_order                 148 non-null    object\n",
      " 1   rate                         148 non-null    object\n",
      " 2   votes                        148 non-null    int64 \n",
      " 3   approx_cost(for two people)  148 non-null    int64 \n",
      " 4   listed_in(type)              148 non-null    object\n",
      "dtypes: int64(2), object(3)\n",
      "memory usage: 5.9+ KB\n"
     ]
    }
   ],
   "source": [
    "df.info()\n"
   ]
  },
  {
   "cell_type": "code",
   "execution_count": 7,
   "id": "1c037217",
   "metadata": {
    "execution": {
     "iopub.execute_input": "2024-07-23T18:00:48.848722Z",
     "iopub.status.busy": "2024-07-23T18:00:48.848364Z",
     "iopub.status.idle": "2024-07-23T18:00:48.860633Z",
     "shell.execute_reply": "2024-07-23T18:00:48.859553Z"
    },
    "papermill": {
     "duration": 0.021045,
     "end_time": "2024-07-23T18:00:48.863365",
     "exception": false,
     "start_time": "2024-07-23T18:00:48.842320",
     "status": "completed"
    },
    "tags": []
   },
   "outputs": [
    {
     "name": "stdout",
     "output_type": "stream",
     "text": [
      "  online_order  rate  votes  approx_cost(for two people) listed_in(type)\n",
      "0          Yes   4.1    775                          800          Buffet\n",
      "1          Yes   4.1    787                          800          Buffet\n",
      "2          Yes   3.8    918                          800          Buffet\n",
      "3           No   3.7     88                          300          Buffet\n",
      "4           No   3.8    166                          600          Buffet\n"
     ]
    }
   ],
   "source": [
    "# Convert 'rate' to a numeric value\n",
    "df['rate'] = df['rate'].str.replace('/5', '').astype(float)\n",
    "\n",
    "# Convert 'votes' to integer\n",
    "df['votes'] = df['votes'].astype(int)\n",
    "\n",
    "# Convert 'approx_cost(for two people)' to integer\n",
    "df['approx_cost(for two people)'] = df['approx_cost(for two people)'].astype(int)\n",
    "\n",
    "# Display the cleaned DataFrame\n",
    "print(df.head())"
   ]
  },
  {
   "cell_type": "code",
   "execution_count": 8,
   "id": "849374bf",
   "metadata": {
    "execution": {
     "iopub.execute_input": "2024-07-23T18:00:48.874246Z",
     "iopub.status.busy": "2024-07-23T18:00:48.873855Z",
     "iopub.status.idle": "2024-07-23T18:00:49.382513Z",
     "shell.execute_reply": "2024-07-23T18:00:49.381439Z"
    },
    "papermill": {
     "duration": 0.517029,
     "end_time": "2024-07-23T18:00:49.385043",
     "exception": false,
     "start_time": "2024-07-23T18:00:48.868014",
     "status": "completed"
    },
    "tags": []
   },
   "outputs": [
    {
     "name": "stdout",
     "output_type": "stream",
     "text": [
      "             rate        votes  approx_cost(for two people)\n",
      "count  148.000000   148.000000                   148.000000\n",
      "mean     3.633108   264.810811                   418.243243\n",
      "std      0.402271   653.676951                   223.085098\n",
      "min      2.600000     0.000000                   100.000000\n",
      "25%      3.300000     6.750000                   200.000000\n",
      "50%      3.700000    43.500000                   400.000000\n",
      "75%      3.900000   221.750000                   600.000000\n",
      "max      4.600000  4884.000000                   950.000000\n"
     ]
    },
    {
     "name": "stderr",
     "output_type": "stream",
     "text": [
      "/opt/conda/lib/python3.10/site-packages/seaborn/_oldcore.py:1119: FutureWarning: use_inf_as_na option is deprecated and will be removed in a future version. Convert inf values to NaN before operating instead.\n",
      "  with pd.option_context('mode.use_inf_as_na', True):\n"
     ]
    },
    {
     "data": {
      "image/png": "[encoded data removed]",
      "text/plain": [
       "<Figure size 1000x600 with 1 Axes>"
      ]
     },
     "metadata": {},
     "output_type": "display_data"
    }
   ],
   "source": [
    "# Display basic statistics\n",
    "print(df.describe())\n",
    "\n",
    "# Distribution of ratings\n",
    "plt.figure(figsize=(10, 6))\n",
    "sns.histplot(df['rate'], bins=20, kde=True)\n",
    "plt.title('Distribution of Ratings')\n",
    "plt.xlabel('Rating')\n",
    "plt.ylabel('Frequency')\n",
    "plt.show()\n",
    "\n"
   ]
  },
  {
   "cell_type": "code",
   "execution_count": 9,
   "id": "6286fddc",
   "metadata": {
    "execution": {
     "iopub.execute_input": "2024-07-23T18:00:49.397954Z",
     "iopub.status.busy": "2024-07-23T18:00:49.397072Z",
     "iopub.status.idle": "2024-07-23T18:00:49.720397Z",
     "shell.execute_reply": "2024-07-23T18:00:49.719189Z"
    },
    "papermill": {
     "duration": 0.332319,
     "end_time": "2024-07-23T18:00:49.722859",
     "exception": false,
     "start_time": "2024-07-23T18:00:49.390540",
     "status": "completed"
    },
    "tags": []
   },
   "outputs": [
    {
     "data": {
      "image/png": "[encoded data removed]",
      "text/plain": [
       "<Figure size 1200x600 with 1 Axes>"
      ]
     },
     "metadata": {},
     "output_type": "display_data"
    }
   ],
   "source": [
    "# Average cost for two people by type of restaurant\n",
    "plt.figure(figsize=(12, 6))\n",
    "sns.barplot(x='listed_in(type)', y='approx_cost(for two people)', data=df, estimator=np.mean)\n",
    "plt.title('Average Cost for Two People by Type of Restaurant')\n",
    "plt.xlabel('Type of Restaurant')\n",
    "plt.ylabel('Average Cost (for two people)')\n",
    "plt.xticks(rotation=45)\n",
    "plt.show()\n",
    "\n"
   ]
  },
  {
   "cell_type": "code",
   "execution_count": null,
   "id": "f6a56bf4",
   "metadata": {
    "papermill": {
     "duration": 0.005587,
     "end_time": "2024-07-23T18:00:49.734345",
     "exception": false,
     "start_time": "2024-07-23T18:00:49.728758",
     "status": "completed"
    },
    "tags": []
   },
   "outputs": [],
   "source": []
  },
  {
   "cell_type": "code",
   "execution_count": null,
   "id": "a29fabc3",
   "metadata": {
    "papermill": {
     "duration": 0.005564,
     "end_time": "2024-07-23T18:00:49.745835",
     "exception": false,
     "start_time": "2024-07-23T18:00:49.740271",
     "status": "completed"
    },
    "tags": []
   },
   "outputs": [],
   "source": []
  },
  {
   "cell_type": "code",
   "execution_count": null,
   "id": "88c3273e",
   "metadata": {
    "papermill": {
     "duration": 0.005506,
     "end_time": "2024-07-23T18:00:49.757209",
     "exception": false,
     "start_time": "2024-07-23T18:00:49.751703",
     "status": "completed"
    },
    "tags": []
   },
   "outputs": [],
   "source": []
  }
 ],
 "metadata": {
  "kaggle": {
   "accelerator": "none",
   "dataSources": [
    {
     "datasetId": 5164185,
     "sourceId": 8625843,
     "sourceType": "datasetVersion"
    }
   ],
   "dockerImageVersionId": 30732,
   "isGpuEnabled": false,
   "isInternetEnabled": true,
   "language": "python",
   "sourceType": "notebook"
  },
  "kernelspec": {
   "display_name": "Python 3",
   "language": "python",
   "name": "python3"
  },
  "language_info": {
   "codemirror_mode": {
    "name": "ipython",
    "version": 3
   },
   "file_extension": ".py",
   "mimetype": "text/x-python",
   "name": "python",
   "nbconvert_exporter": "python",
   "pygments_lexer": "ipython3",
   "version": "3.10.13"
  },
  "papermill": {
   "default_parameters": {},
   "duration": 7.066161,
   "end_time": "2024-07-23T18:00:50.384000",
   "environment_variables": {},
   "exception": null,
   "input_path": "__notebook__.ipynb",
   "output_path": "__notebook__.ipynb",
   "parameters": {},
   "start_time": "2024-07-23T18:00:43.317839",
   "version": "2.5.0"
  }
 },
 "nbformat": 4,
 "nbformat_minor": 5
}
